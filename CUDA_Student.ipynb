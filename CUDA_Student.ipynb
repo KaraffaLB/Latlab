{
  "nbformat": 4,
  "nbformat_minor": 0,
  "metadata": {
    "colab": {
      "name": "CUDA_Student.ipynb",
      "provenance": [],
      "collapsed_sections": [
        "hNHdrJDna0t1"
      ],
      "include_colab_link": true
    },
    "kernelspec": {
      "name": "python3",
      "display_name": "Python 3"
    },
    "accelerator": "GPU"
  },
  "cells": [
    {
      "cell_type": "markdown",
      "metadata": {
        "id": "view-in-github",
        "colab_type": "text"
      },
      "source": [
        "<a href=\"https://colab.research.google.com/github/KaraffaLB/Latlab/blob/main/CUDA_Student.ipynb\" target=\"_parent\"><img src=\"https://colab.research.google.com/assets/colab-badge.svg\" alt=\"Open In Colab\"/></a>"
      ]
    },
    {
      "cell_type": "markdown",
      "metadata": {
        "id": "2_eLuRA-4_NV"
      },
      "source": [
        "# CUDA\n",
        "\n",
        "This demo illustrates the use of the CUDA programming language.\n",
        "\n",
        "## Install essentials\n",
        "\n",
        "Since running CUDA in Colab is tricky, we need a few installs first"
      ]
    },
    {
      "cell_type": "code",
      "source": [
        "!apt-get update -y\n",
        "!apt-get install -y cuda-12-4"
      ],
      "metadata": {
        "id": "voSw6Jnu2X3m"
      },
      "execution_count": null,
      "outputs": []
    },
    {
      "cell_type": "code",
      "source": [
        "!sudo rm -rf /usr/local/cuda\n",
        "!sudo ln -s /usr/local/cuda-12.4 /usr/local/cuda"
      ],
      "metadata": {
        "id": "1is-li752ZmI"
      },
      "execution_count": null,
      "outputs": []
    },
    {
      "cell_type": "code",
      "source": [
        "!export PATH=/usr/local/cuda-12.4/bin:$PATH\n",
        "!export LD_LIBRARY_PATH=/usr/local/cuda-12.4/lib64:$LD_LIBRARY_PATH"
      ],
      "metadata": {
        "id": "gGiW6NYu2bVs"
      },
      "execution_count": null,
      "outputs": []
    },
    {
      "cell_type": "code",
      "source": [
        "!echo $PATH\n",
        "!echo $LD_LIBRARY_PATH"
      ],
      "metadata": {
        "id": "p2176DoR2dmQ"
      },
      "execution_count": null,
      "outputs": []
    },
    {
      "cell_type": "code",
      "metadata": {
        "id": "M2FqIguf4q9s"
      },
      "source": [
        "!pip install opencv-python\n",
        "!nvcc --version\n",
        "!pip install git+https://github.com/andreinechaev/nvcc4jupyter.git\n",
        "%load_ext nvcc4jupyter"
      ],
      "execution_count": null,
      "outputs": []
    },
    {
      "cell_type": "markdown",
      "metadata": {
        "id": "OiC9THQO5gVP"
      },
      "source": [
        "## Simple Example"
      ]
    },
    {
      "cell_type": "code",
      "metadata": {
        "id": "McWIZ4qx5jk2"
      },
      "source": [
        "%%cuda\n",
        "#include <stdio.h>\n",
        "#include <stdlib.h>\n",
        "#include <iostream>\n",
        "\n",
        "// TODO: Kernel function add\n",
        "// Kernel should get three arrays, a,b,c and their size N\n",
        "// Implement c=a+b\n",
        "\n",
        "    // TODO: Compute Index\n",
        "\n",
        "    // TODO: Add element\n",
        "\n",
        "// Main program\n",
        "int main() {\n",
        "\n",
        "    // Basics\n",
        "    int N = 10;\n",
        "    int size = N*sizeof(float);\n",
        "\n",
        "    // Setup input values\n",
        "    float *a, *b, *c;\n",
        "\n",
        "    // TODO: Allocate memory for arrays\n",
        "\n",
        "    // TODO: Initialize inputs\n",
        "\n",
        "    // Device copies of variables a, b & c\n",
        "    float *d_a, *d_b, *d_c;\n",
        "\n",
        "    // TODO: Allocate space for device copies of a, b, c\n",
        "\n",
        "    // TODO: Copy inputs to device\n",
        "\n",
        "    // TODO: Launch add() kernel on GPU\n",
        "\n",
        "    // TODO: Copy result back to host\n",
        "\n",
        "    // Print results\n",
        "    for(int j = 0; j < N; j++)\n",
        "    {\n",
        "        std::cout << a[j] << \" + \" << b[j] << \" = \" << c[j] << std::endl;\n",
        "    }\n",
        "\n",
        "    // Cleanup\n",
        "    cudaFree(d_a);\n",
        "    cudaFree(d_b);\n",
        "    cudaFree(d_c);\n",
        "    free(a);\n",
        "    free(b);\n",
        "    free(c);\n",
        "\n",
        "    return 0;\n",
        "}"
      ],
      "execution_count": null,
      "outputs": []
    },
    {
      "cell_type": "markdown",
      "metadata": {
        "id": "3fIjcGdO5k-I"
      },
      "source": [
        "## Dot Product"
      ]
    },
    {
      "cell_type": "code",
      "metadata": {
        "id": "xwl3rETK5o5w"
      },
      "source": [
        "%%cuda\n",
        "#include <iostream>\n",
        "#include <stdlib.h>\n",
        "#define N (1024)\n",
        "#define THREADS_PER_BLOCK 128\n",
        "\n",
        "// Dot product kernel\n",
        "__global__ void dot(float *a, float *b, float *c)\n",
        "{\n",
        "    // TODO: Create shared memory\n",
        "\n",
        "    // TODO: Compute index\n",
        "\n",
        "    // TODO: Make sure we remain within array bounds\n",
        "\n",
        "        // TODO: Compute dot per element\n",
        "\n",
        "        // TODO: Synch within block\n",
        "\n",
        "        // TODO: First thread does the sum\n",
        "\n",
        "            // TODO: First, sum the shared memory\n",
        "\n",
        "            // TODO: Then sum partial results into global memory\n",
        "\n",
        "}\n",
        "\n",
        "int main()\n",
        "{\n",
        "    // Basic vars\n",
        "    float *a, *b, *c;\n",
        "    float *dev_a, *dev_b, *dev_c;\n",
        "    int size = N * sizeof(float);\n",
        "\n",
        "    // Allocate space for the variables on the device\n",
        "    cudaMalloc((void **)&dev_a, size);\n",
        "    cudaMalloc((void **)&dev_b, size);\n",
        "    cudaMalloc((void **)&dev_c, sizeof(float));\n",
        "\n",
        "    // Allocate space for the variables on the host\n",
        "    a = (float *)malloc(size);\n",
        "    b = (float *)malloc(size);\n",
        "    c = (float *)malloc(sizeof(float));\n",
        "\n",
        "    // This is our ground truth\n",
        "    float sumTest = 0;\n",
        "\n",
        "    // Generate random numbers\n",
        "    for (int i = 0; i < N; i++)\n",
        "    {\n",
        "        a[i] = static_cast <float> (rand()) / static_cast <float> (RAND_MAX)-0.5;\n",
        "        b[i] = static_cast <float> (rand()) / static_cast <float> (RAND_MAX)-0.5;\n",
        "        sumTest += a[i] * b[i];\n",
        "    }\n",
        "    *c = 0;\n",
        "\n",
        "    // Copy inputs to GPU\n",
        "    cudaMemcpy(dev_a, a, size, cudaMemcpyHostToDevice);\n",
        "    cudaMemcpy(dev_b, b, size, cudaMemcpyHostToDevice);\n",
        "    cudaMemcpy(dev_c, c, size, cudaMemcpyHostToDevice);\n",
        "\n",
        "    // TODO: Call kernel\n",
        "\n",
        "    // Copy result from GPU\n",
        "    cudaMemcpy(c, dev_c, sizeof(int), cudaMemcpyDeviceToHost);\n",
        "\n",
        "    std::cout << \"CPU: \" << sumTest << \" GPU: \" << *c << std::endl;\n",
        "\n",
        "    // Cleanup\n",
        "    free(a);\n",
        "    free(b);\n",
        "    free(c);\n",
        "\n",
        "    cudaFree(a);\n",
        "    cudaFree(b);\n",
        "    cudaFree(c);\n",
        "\n",
        "    return 0;\n",
        "\n",
        " }"
      ],
      "execution_count": null,
      "outputs": []
    },
    {
      "cell_type": "markdown",
      "metadata": {
        "id": "13QgkWHoquhG"
      },
      "source": [
        "## Prepare image\n",
        "\n",
        "To be able to process it from native C++ we download an image and convert it to csv format. This is done becuase it is difficult to compile OpenCV and CUDA at the same time in Colab"
      ]
    },
    {
      "cell_type": "code",
      "metadata": {
        "id": "QauDzaD9rAJe"
      },
      "source": [
        "!rm Lena.png\n",
        "!wget http://deeplearning.iit.bme.hu/Public/Lena.png --no-check-certificate\n",
        "import cv2\n",
        "import numpy as np\n",
        "import matplotlib.pyplot as plt\n",
        "%matplotlib inline\n",
        "\n",
        "img = cv2.imread('Lena.png')\n",
        "img = cv2.cvtColor(img,cv2.COLOR_BGR2RGB).reshape((img.shape[0],img.shape[1]*3))\n",
        "np.savetxt('lena.csv',img,delimiter=',',fmt='%d')\n",
        "plt.figure(figsize=(8,8))\n",
        "plt.imshow(img.reshape((img.shape[0],img.shape[1]//3,3)))"
      ],
      "execution_count": null,
      "outputs": []
    },
    {
      "cell_type": "markdown",
      "metadata": {
        "id": "e3mJMyXg5pY4"
      },
      "source": [
        "## GrayScale Conversion"
      ]
    },
    {
      "cell_type": "code",
      "metadata": {
        "id": "9Tjz0JVg5wlw"
      },
      "source": [
        "%%cuda\n",
        "#include <iostream>\n",
        "#include <fstream>\n",
        "#include <sstream>\n",
        "\n",
        "// Kernel\n",
        "__global__ void grayscale( cudaTextureObject_t image, unsigned char* result, int width )\n",
        "{\n",
        "    // TODO: Now, we have 2D arrays, so 2 indices\n",
        "\n",
        "    // TODO: Get pixel from texture\n",
        "\n",
        "    // TODO: Compute grayscale value\n",
        "\n",
        "    // TODO: Write output\n",
        "}\n",
        "\n",
        "// Read csv\n",
        "void readCsv(std::string fname, unsigned char* imData)\n",
        "{\n",
        "    // File pointer\n",
        "    std::fstream fin;\n",
        "\n",
        "    // Open an existing file\n",
        "    fin.open(fname, std::ios::in);\n",
        "\n",
        "    // Vars\n",
        "    std::string line, word;\n",
        "\n",
        "    // Counter\n",
        "    int i = 0;\n",
        "\n",
        "    // While there are lines\n",
        "    while (std::getline(fin, line)) {\n",
        "\n",
        "        // used for breaking words\n",
        "        std::stringstream s(line);\n",
        "\n",
        "        // read every column data of a row and\n",
        "        // store it in a string variable, word\n",
        "        while (getline(s, word, ',')) {\n",
        "\n",
        "            // String to integer\n",
        "            imData[i++] = std::stoi(word);\n",
        "\n",
        "            // Add a 0 value to every 4th position (needed because we have uchar4 texture)\n",
        "            if (i%4 == 3)\n",
        "                imData[i++] = 0;\n",
        "        }\n",
        "    }\n",
        "}\n",
        "\n",
        "// Write csv\n",
        "void writeCsv(std::string fname, unsigned char* imData, int width, int height)\n",
        "{\n",
        "    // File pointer\n",
        "    std::fstream fout;\n",
        "\n",
        "    // Open a new file\n",
        "    fout.open(fname, std::ios::out);\n",
        "\n",
        "    for( int i = 0; i < height; i++)\n",
        "    {\n",
        "        int offs = width * i;\n",
        "\n",
        "        for (int j = 0; j < width; j++)\n",
        "        {\n",
        "            // Write value (float conversion needed to aviod writing chars as ascii)\n",
        "            fout << float(imData[offs+j]);\n",
        "\n",
        "            // Avoid writing comma after last value in row (causes errors later)\n",
        "            if (j < width-1)\n",
        "                fout << \",\";\n",
        "        }\n",
        "\n",
        "        fout << std::endl;\n",
        "    }\n",
        "}\n",
        "\n",
        "int main()\n",
        "{\n",
        "    // Basic variables\n",
        "    unsigned char *imData;\n",
        "    int width = 512;\n",
        "    int height = 512;\n",
        "    int ch = 4;\n",
        "\n",
        "    // TODO: Read image\n",
        "    int size = width * height * sizeof( unsigned char );\n",
        "\n",
        "    // Create channel descriptor\n",
        "    cudaChannelFormatDesc channelDesc = cudaCreateChannelDesc<uchar4>();\n",
        "\n",
        "    // Allocate GPU array and copy image\n",
        "    cudaArray* cu_array;\n",
        "    cudaMallocArray( &cu_array, &channelDesc , width, height );\n",
        "    cudaMemcpyToArray( cu_array, 0, 0, imData, size*ch, cudaMemcpyHostToDevice);\n",
        "\n",
        "    // Create resource descriptor (basically, stupid administration)\n",
        "    struct cudaResourceDesc resDesc;\n",
        "    memset(&resDesc, 0, sizeof(resDesc));\n",
        "    resDesc.resType = cudaResourceTypeArray;\n",
        "    resDesc.res.array.array = cu_array; //Here, we bind the cu_array, where the actual data is\n",
        "\n",
        "    // Tecture descriptor (basically the settings of the texture memory)\n",
        "    struct cudaTextureDesc texDesc;\n",
        "    memset(&texDesc, 0, sizeof(texDesc));\n",
        "    // TODO: Set texture parameters\n",
        "\n",
        "    // TODO: Create the texture memory object\n",
        "\n",
        "    // Allocate output\n",
        "    unsigned char *result, *result_cpu;\n",
        "    cudaMalloc((void **)&result, size);\n",
        "    result_cpu = (unsigned char *)malloc(size);\n",
        "\n",
        "    // TODO: Call kernel\n",
        "\n",
        "    // Copy result from GPU and save\n",
        "    cudaMemcpy(result_cpu, result, size, cudaMemcpyDeviceToHost);\n",
        "    writeCsv(\"lena_gray.csv\",result_cpu,width,height);\n",
        "\n",
        "    // Cleanup\n",
        "    cudaFreeArray( cu_array );\n",
        "    cudaFree( result );\n",
        "}"
      ],
      "execution_count": null,
      "outputs": []
    },
    {
      "cell_type": "markdown",
      "metadata": {
        "id": "3xTjKeLW9fpt"
      },
      "source": [
        "### Display"
      ]
    },
    {
      "cell_type": "code",
      "metadata": {
        "id": "uQRUb7Uy9g-K"
      },
      "source": [
        "# Show image\n",
        "img = np.loadtxt(\"lena_gray.csv\",delimiter=\",\").astype('uint8')\n",
        "plt.figure(figsize=(8,8))\n",
        "plt.imshow(img,cmap='gray')"
      ],
      "execution_count": null,
      "outputs": []
    },
    {
      "cell_type": "markdown",
      "metadata": {
        "id": "hNHdrJDna0t1"
      },
      "source": [
        "### Create Noisy image"
      ]
    },
    {
      "cell_type": "code",
      "metadata": {
        "id": "VymDdLena3kP"
      },
      "source": [
        "# Add noise to the image\n",
        "def noisy(noise_typ,image):\n",
        "    if noise_typ == \"gauss\":\n",
        "        row,col= image.shape\n",
        "        mean = 0\n",
        "        sigma = 15\n",
        "        # Create random gaussian\n",
        "        gauss = np.random.normal(mean,sigma,(row,col))\n",
        "        # Make sure it has the same shape\n",
        "        gauss = gauss.reshape(row,col)\n",
        "        noisy = image + gauss\n",
        "        noisy = np.clip(noisy,0,255)\n",
        "        return noisy\n",
        "    elif noise_typ == \"snp\":\n",
        "        row,col = image.shape\n",
        "        s_vs_p = 0.5\n",
        "        amount = 0.02\n",
        "        out = np.copy(image)\n",
        "        # Number of salt (half of total)\n",
        "        num_salt = np.ceil(amount * image.size * s_vs_p)\n",
        "        # Random locations\n",
        "        coords = tuple([np.random.randint(0, i - 1, int(num_salt)) for i in image.shape])\n",
        "        out[coords] = 255\n",
        "\n",
        "        # Number of pepper (half of total)\n",
        "        num_pepper = np.ceil(amount* image.size * (1. - s_vs_p))\n",
        "        # Random locations\n",
        "        coords = tuple([np.random.randint(0, i - 1, int(num_pepper)) for i in image.shape])\n",
        "        out[coords] = 0\n",
        "        return out\n",
        "\n",
        "img_noise = noisy(\"gauss\",img)\n",
        "np.savetxt('lena_noisy.csv',img_noise,delimiter=',',fmt='%d')\n",
        "plt.figure(figsize=(8,8))\n",
        "plt.imshow(img_noise,cmap='gray')"
      ],
      "execution_count": null,
      "outputs": []
    },
    {
      "cell_type": "markdown",
      "metadata": {
        "id": "hlZ3X_Oy5w8k"
      },
      "source": [
        "## Convolution"
      ]
    },
    {
      "cell_type": "code",
      "metadata": {
        "id": "FmiUksXv5yhU"
      },
      "source": [
        "%%cuda\n",
        "#include <iostream>\n",
        "#include <fstream>\n",
        "#include <sstream>\n",
        "\n",
        "\n",
        "// TODO: Helper function to get a single weighted pixel\n",
        "// Inputs: image, a cuda texture\n",
        "//         ix, iy the position in the image\n",
        "//         dx, dy the positions in the kernel\n",
        "//         cmtx the pointer to the kernel matrix\n",
        "\n",
        "    // TODO: Get pixel value\n",
        "\n",
        "    // TODO: Get kernel value\n",
        "\n",
        "    // TODO: Return product\n",
        "\n",
        "// Conv kernel\n",
        "__global__ void convolve ( cudaTextureObject_t image, unsigned char* result, int width, float* cmtx )\n",
        "{\n",
        "    // TODO: 2D indexing\n",
        "\n",
        "    // TODO: Add 9 weighted pixels\n",
        "\n",
        "    // TODO: Write result\n",
        "}\n",
        "\n",
        "// Read csv\n",
        "void readCsv(std::string fname, unsigned char* imData)\n",
        "{\n",
        "    // File pointer\n",
        "    std::fstream fin;\n",
        "\n",
        "    // Open an existing file\n",
        "    fin.open(fname, std::ios::in);\n",
        "\n",
        "    // Vars\n",
        "    std::string line, word;\n",
        "\n",
        "    // Counter\n",
        "    int i = 0;\n",
        "\n",
        "    // While there are lines\n",
        "    while (std::getline(fin, line)) {\n",
        "\n",
        "        // used for breaking words\n",
        "        std::stringstream s(line);\n",
        "\n",
        "        // read every column data of a row and\n",
        "        // store it in a string variable, word\n",
        "        while (getline(s, word, ',')) {\n",
        "\n",
        "            // String to integer\n",
        "            imData[i++] = std::stoi(word);\n",
        "        }\n",
        "    }\n",
        "}\n",
        "\n",
        "// Write csv\n",
        "void writeCsv(std::string fname, unsigned char* imData, int width, int height)\n",
        "{\n",
        "    // File pointer\n",
        "    std::fstream fout;\n",
        "\n",
        "    // Open a new file\n",
        "    fout.open(fname, std::ios::out);\n",
        "\n",
        "    for( int i = 0; i < height; i++)\n",
        "    {\n",
        "        int offs = width * i;\n",
        "\n",
        "        for (int j = 0; j < width; j++)\n",
        "        {\n",
        "            // Write value (float conversion needed to aviod writing chars as ascii)\n",
        "            fout << float(imData[offs+j]);\n",
        "\n",
        "            // Avoid writing comma after last value in row (causes errors later)\n",
        "            if (j < width-1)\n",
        "                fout << \",\";\n",
        "        }\n",
        "\n",
        "        fout << std::endl;\n",
        "    }\n",
        "}\n",
        "\n",
        "\n",
        "int main()\n",
        "{\n",
        "    // Basic variables\n",
        "    unsigned char *imData;\n",
        "    int width = 512;\n",
        "    int height = 512;\n",
        "    int ch = 1;\n",
        "\n",
        "    // Read image\n",
        "    int size = width * height * sizeof( unsigned char );\n",
        "    imData = (unsigned char *)malloc(size * ch);\n",
        "    readCsv(\"lena_noisy.csv\",imData);\n",
        "\n",
        "    // Create channel descriptor\n",
        "    cudaChannelFormatDesc channelDesc = cudaCreateChannelDesc<uchar1>();\n",
        "\n",
        "    // Allocate GPU array and copy image\n",
        "    cudaArray* cu_array;\n",
        "    cudaMallocArray( &cu_array, &channelDesc , width, height );\n",
        "    cudaMemcpyToArray( cu_array, 0, 0, imData, size*ch, cudaMemcpyHostToDevice);\n",
        "\n",
        "    // Create resource descriptor (basically, stupid administration)\n",
        "    struct cudaResourceDesc resDesc;\n",
        "    memset(&resDesc, 0, sizeof(resDesc));\n",
        "    resDesc.resType = cudaResourceTypeArray;\n",
        "    resDesc.res.array.array = cu_array; //Here, we bind the cu_array, where the actual data is\n",
        "\n",
        "    // Tecture descriptor (basically the settings of the texture memory)\n",
        "    struct cudaTextureDesc texDesc;\n",
        "    memset(&texDesc, 0, sizeof(texDesc));\n",
        "    texDesc.addressMode[0]   = cudaAddressModeWrap;\n",
        "    texDesc.addressMode[1]   = cudaAddressModeWrap;\n",
        "    texDesc.filterMode       = cudaFilterModePoint;\n",
        "    texDesc.readMode         = cudaReadModeElementType;\n",
        "    texDesc.normalizedCoords = false;\n",
        "\n",
        "    // Create the texture memory object\n",
        "    cudaTextureObject_t image = 0;\n",
        "    cudaCreateTextureObject(&image, &resDesc, &texDesc, NULL);\n",
        "\n",
        "    // TODO: Create filter\n",
        "\n",
        "    // Copy filter to GPU\n",
        "    float *cmtx;\n",
        "    cudaMalloc((void **)&cmtx, 9*sizeof(float));\n",
        "    cudaMemcpy(cmtx, filt, 9*sizeof(float), cudaMemcpyHostToDevice);\n",
        "\n",
        "    // Allocate output\n",
        "    unsigned char *result, *result_cpu;\n",
        "    cudaMalloc((void **)&result, size);\n",
        "    result_cpu = (unsigned char *)malloc(size);\n",
        "\n",
        "    // Call kernel\n",
        "    dim3 dimBlock( 8, 8, 1 );\n",
        "    dim3 dimGrid( width >> 3, height >> 3, 1 );\n",
        "    convolve<<< dimGrid , dimBlock >>>( result, width, cmtx );\n",
        "\n",
        "    // Copy result from GPU and save\n",
        "    cudaMemcpy(result_cpu, result, size, cudaMemcpyDeviceToHost);\n",
        "    writeCsv(\"lena_filt.csv\",result_cpu,width,height);\n",
        "\n",
        "    // Cleanup\n",
        "    cudaFreeArray( cu_array );\n",
        "    cudaFree( result );\n",
        "}\n"
      ],
      "execution_count": null,
      "outputs": []
    },
    {
      "cell_type": "markdown",
      "metadata": {
        "id": "ep9NvbM-LP3A"
      },
      "source": [
        "## Display"
      ]
    },
    {
      "cell_type": "code",
      "metadata": {
        "id": "-gkAK1iyLRAd"
      },
      "source": [
        "img_filt = np.loadtxt(\"lena_filt.csv\",delimiter=\",\").astype('uint8')\n",
        "plt.figure(figsize=(15,15))\n",
        "plt.subplot(1,2,1)\n",
        "plt.imshow(img_noise,cmap='gray',norm=plt.Normalize(0,255))\n",
        "plt.subplot(1,2,2)\n",
        "plt.imshow(img_filt,cmap='gray',norm=plt.Normalize(0,255))"
      ],
      "execution_count": null,
      "outputs": []
    }
  ]
}